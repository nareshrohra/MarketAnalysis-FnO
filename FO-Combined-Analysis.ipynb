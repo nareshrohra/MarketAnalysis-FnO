{
 "cells": [
  {
   "cell_type": "markdown",
   "metadata": {},
   "source": [
    "## Import libraries"
   ]
  },
  {
   "cell_type": "code",
   "execution_count": 1,
   "metadata": {},
   "outputs": [],
   "source": [
    "# import relevant libraries\n",
    "import pandas as pd, numpy as np, seaborn as sns\n",
    "from matplotlib import pyplot as plt\n",
    "import os\n",
    "import datetime\n",
    "import importlib"
   ]
  },
  {
   "cell_type": "markdown",
   "metadata": {},
   "source": [
    "## Setup"
   ]
  },
  {
   "cell_type": "code",
   "execution_count": 2,
   "metadata": {},
   "outputs": [],
   "source": [
    "os.chdir(r\"C:\\Data\\Personal\\AI ML\\Markets data\\Options\")"
   ]
  },
  {
   "cell_type": "code",
   "execution_count": 3,
   "metadata": {},
   "outputs": [],
   "source": [
    "%load_ext autoreload\n",
    "%autoreload 2\n",
    "%run dataparser\n",
    "from dataparser import DataProcessor, DataVisualizer, SpreadStrategyCheck, DataReader, OiParticipantsVisualizer\n",
    "dp = DataProcessor()\n",
    "dataReader = DataReader()"
   ]
  },
  {
   "cell_type": "markdown",
   "metadata": {},
   "source": [
    "## Analysis Setup"
   ]
  },
  {
   "cell_type": "code",
   "execution_count": 4,
   "metadata": {},
   "outputs": [],
   "source": [
    "prevExpiry = '31/12/2020'\n",
    "curExpiry = '28/01/2021'\n",
    "nearExpiry = '25/02/2021'\n",
    "farExpiry = '25/03/2021'\n",
    "prefExpiry = curExpiry\n",
    "\n",
    "week1, week2, week3, week4 = '07/1/2021', '14/1/2021', '21/1/2021', '28/1/2021'"
   ]
  },
  {
   "cell_type": "code",
   "execution_count": 5,
   "metadata": {},
   "outputs": [],
   "source": [
    "today, yest, b4Yest = datetime.datetime(2021, 1, 8), datetime.datetime(2021, 1, 7), datetime.datetime(2021, 1, 6)\n",
    "niftyBhavToday, niftyBhavYest, niftyBhavB4Yest = 14347, 14137, 14146"
   ]
  },
  {
   "cell_type": "code",
   "execution_count": 48,
   "metadata": {},
   "outputs": [],
   "source": [
    "bhavToday = dataReader.readBhavcopy2(today)\n",
    "bhavYest = dataReader.readBhavcopy2(yest)\n",
    "bhavB4Yest = dataReader.readBhavcopy2(b4Yest)"
   ]
  },
  {
   "cell_type": "markdown",
   "metadata": {},
   "source": [
    "## Options Analysis"
   ]
  },
  {
   "cell_type": "code",
   "execution_count": 54,
   "metadata": {},
   "outputs": [],
   "source": [
    "opToday = dp.getOptionsForDate(today, bhavToday)\n",
    "opYest = dp.getOptionsForDate(yest, bhavYest)\n",
    "opB4Yest = dp.getOptionsForDate(b4Yest, bhavB4Yest)"
   ]
  },
  {
   "cell_type": "code",
   "execution_count": 55,
   "metadata": {},
   "outputs": [
    {
     "data": {
      "text/plain": [
       "array(['14/01/2021', '21/01/2021', '28/01/2021', '04/02/2021',\n",
       "       '11/02/2021', '18/02/2021', '25/02/2021', '04/03/2021',\n",
       "       '10/03/2021', '25/03/2021', '24/06/2021', '30/12/2021',\n",
       "       '29/12/2022', '26/06/2025'], dtype=object)"
      ]
     },
     "execution_count": 55,
     "metadata": {},
     "output_type": "execute_result"
    }
   ],
   "source": [
    "opToday['EXP_DATE'].unique()"
   ]
  },
  {
   "cell_type": "code",
   "execution_count": 15,
   "metadata": {},
   "outputs": [
    {
     "data": {
      "text/html": [
       "<div>\n",
       "<style scoped>\n",
       "    .dataframe tbody tr th:only-of-type {\n",
       "        vertical-align: middle;\n",
       "    }\n",
       "\n",
       "    .dataframe tbody tr th {\n",
       "        vertical-align: top;\n",
       "    }\n",
       "\n",
       "    .dataframe thead th {\n",
       "        text-align: right;\n",
       "    }\n",
       "</style>\n",
       "<table border=\"1\" class=\"dataframe\">\n",
       "  <thead>\n",
       "    <tr style=\"text-align: right;\">\n",
       "      <th></th>\n",
       "      <th>SYMBOL</th>\n",
       "      <th>STR_PRICE</th>\n",
       "      <th>OPT_TYPE</th>\n",
       "      <th>CMP</th>\n",
       "      <th>CLOSE_PRICE</th>\n",
       "      <th>Premium</th>\n",
       "      <th>OPEN_INT*</th>\n",
       "      <th>LotSize</th>\n",
       "      <th>StrikePriceDiffPer</th>\n",
       "      <th>OpIntradayChange</th>\n",
       "      <th>CmpIntradayChange</th>\n",
       "    </tr>\n",
       "  </thead>\n",
       "  <tbody>\n",
       "    <tr>\n",
       "      <th>2388</th>\n",
       "      <td>IDEA</td>\n",
       "      <td>14.0</td>\n",
       "      <td>CE</td>\n",
       "      <td>11.75</td>\n",
       "      <td>0.4</td>\n",
       "      <td>28000.0</td>\n",
       "      <td>38500000.0</td>\n",
       "      <td>70000</td>\n",
       "      <td>19.15</td>\n",
       "      <td>-0.1</td>\n",
       "      <td>-0.35</td>\n",
       "    </tr>\n",
       "  </tbody>\n",
       "</table>\n",
       "</div>"
      ],
      "text/plain": [
       "     SYMBOL  STR_PRICE OPT_TYPE    CMP  CLOSE_PRICE  Premium   OPEN_INT*  \\\n",
       "2388   IDEA       14.0       CE  11.75          0.4  28000.0  38500000.0   \n",
       "\n",
       "      LotSize  StrikePriceDiffPer  OpIntradayChange  CmpIntradayChange  \n",
       "2388    70000               19.15              -0.1              -0.35  "
      ]
     },
     "execution_count": 15,
     "metadata": {},
     "output_type": "execute_result"
    }
   ],
   "source": [
    "opTodayFilters = dp.filterOptions({\n",
    "    'symbol': 'NIFTY',\n",
    "    'prefExpiries': ['04/02/2021', '11/02/2021', '18/02/2021', '25/02/2021', '04/03/2021',\n",
    "       '10/03/2021', '25/03/2021', '24/06/2021', '30/12/2021',\n",
    "       '29/12/2022', '26/06/2025'],\n",
    "    'optTypes': ['PE' ,'CE'],\n",
    "    'moneyness': ['OTM'],\n",
    "    'sortBy': 'Premium'\n",
    "    }, opToday)\n",
    "#opTodayFilters.head(5)\n",
    "opTodayFilters.loc[opTodayFilters.groupby(['SYMBOL'])['Premium'].idxmax()].sort_values('Premium', ascending=False).head(1)"
   ]
  },
  {
   "cell_type": "markdown",
   "metadata": {},
   "source": [
    "### Changes in OI of ITM options"
   ]
  },
  {
   "cell_type": "code",
   "execution_count": 56,
   "metadata": {},
   "outputs": [
    {
     "data": {
      "text/html": [
       "<div>\n",
       "<style scoped>\n",
       "    .dataframe tbody tr th:only-of-type {\n",
       "        vertical-align: middle;\n",
       "    }\n",
       "\n",
       "    .dataframe tbody tr th {\n",
       "        vertical-align: top;\n",
       "    }\n",
       "\n",
       "    .dataframe thead th {\n",
       "        text-align: right;\n",
       "    }\n",
       "</style>\n",
       "<table border=\"1\" class=\"dataframe\">\n",
       "  <thead>\n",
       "    <tr style=\"text-align: right;\">\n",
       "      <th></th>\n",
       "      <th>SYMBOL</th>\n",
       "      <th>STR_PRICE</th>\n",
       "      <th>EXP_DATE</th>\n",
       "      <th>OPT_TYPE</th>\n",
       "      <th>CLOSE_PRICE_x</th>\n",
       "      <th>CLOSE_PRICE_y</th>\n",
       "      <th>OPEN_INT*_x</th>\n",
       "      <th>Premium_x</th>\n",
       "      <th>Moneyness_x</th>\n",
       "      <th>OiChangePer</th>\n",
       "      <th>OiChangePerAbs</th>\n",
       "    </tr>\n",
       "  </thead>\n",
       "  <tbody>\n",
       "    <tr>\n",
       "      <th>0</th>\n",
       "      <td>NIFTY</td>\n",
       "      <td>11200.0</td>\n",
       "      <td>14/01/2021</td>\n",
       "      <td>PE</td>\n",
       "      <td>0.65</td>\n",
       "      <td>0.5</td>\n",
       "      <td>187800.0</td>\n",
       "      <td>49.0</td>\n",
       "      <td>OTM</td>\n",
       "      <td>2991.358025</td>\n",
       "      <td>2991.358025</td>\n",
       "    </tr>\n",
       "  </tbody>\n",
       "</table>\n",
       "</div>"
      ],
      "text/plain": [
       "  SYMBOL  STR_PRICE    EXP_DATE OPT_TYPE  CLOSE_PRICE_x  CLOSE_PRICE_y  \\\n",
       "0  NIFTY    11200.0  14/01/2021       PE           0.65            0.5   \n",
       "\n",
       "   OPEN_INT*_x  Premium_x Moneyness_x  OiChangePer  OiChangePerAbs  \n",
       "0     187800.0       49.0         OTM  2991.358025     2991.358025  "
      ]
     },
     "execution_count": 56,
     "metadata": {},
     "output_type": "execute_result"
    }
   ],
   "source": [
    "#opComparison = dp.compareOptions(opYest, opB4Yest)\n",
    "opComparison = dp.compareOptions(opToday, opYest)\n",
    "opComparison.head(1)"
   ]
  },
  {
   "cell_type": "code",
   "execution_count": 91,
   "metadata": {},
   "outputs": [
    {
     "data": {
      "text/html": [
       "<div>\n",
       "<style scoped>\n",
       "    .dataframe tbody tr th:only-of-type {\n",
       "        vertical-align: middle;\n",
       "    }\n",
       "\n",
       "    .dataframe tbody tr th {\n",
       "        vertical-align: top;\n",
       "    }\n",
       "\n",
       "    .dataframe thead th {\n",
       "        text-align: right;\n",
       "    }\n",
       "</style>\n",
       "<table border=\"1\" class=\"dataframe\">\n",
       "  <thead>\n",
       "    <tr style=\"text-align: right;\">\n",
       "      <th></th>\n",
       "      <th>SYMBOL</th>\n",
       "      <th>STR_PRICE</th>\n",
       "      <th>EXP_DATE</th>\n",
       "      <th>OPT_TYPE</th>\n",
       "      <th>CLOSE_PRICE_x</th>\n",
       "      <th>CLOSE_PRICE_y</th>\n",
       "      <th>OPEN_INT*_x</th>\n",
       "      <th>Premium_x</th>\n",
       "      <th>Moneyness_x</th>\n",
       "      <th>OiChangePer</th>\n",
       "      <th>OiChangePerAbs</th>\n",
       "    </tr>\n",
       "  </thead>\n",
       "  <tbody>\n",
       "    <tr>\n",
       "      <th>349</th>\n",
       "      <td>NIFTY</td>\n",
       "      <td>13700.0</td>\n",
       "      <td>25/02/2021</td>\n",
       "      <td>PE</td>\n",
       "      <td>200.45</td>\n",
       "      <td>245.55</td>\n",
       "      <td>82650.0</td>\n",
       "      <td>15034.0</td>\n",
       "      <td>OTM</td>\n",
       "      <td>302.189781</td>\n",
       "      <td>302.189781</td>\n",
       "    </tr>\n",
       "    <tr>\n",
       "      <th>427</th>\n",
       "      <td>NIFTY</td>\n",
       "      <td>13000.0</td>\n",
       "      <td>24/06/2021</td>\n",
       "      <td>PE</td>\n",
       "      <td>293.15</td>\n",
       "      <td>317.70</td>\n",
       "      <td>8325.0</td>\n",
       "      <td>21986.0</td>\n",
       "      <td>OTM</td>\n",
       "      <td>226.470588</td>\n",
       "      <td>226.470588</td>\n",
       "    </tr>\n",
       "    <tr>\n",
       "      <th>334</th>\n",
       "      <td>NIFTY</td>\n",
       "      <td>12700.0</td>\n",
       "      <td>25/02/2021</td>\n",
       "      <td>PE</td>\n",
       "      <td>44.65</td>\n",
       "      <td>56.90</td>\n",
       "      <td>49950.0</td>\n",
       "      <td>3349.0</td>\n",
       "      <td>OTM</td>\n",
       "      <td>175.206612</td>\n",
       "      <td>175.206612</td>\n",
       "    </tr>\n",
       "    <tr>\n",
       "      <th>367</th>\n",
       "      <td>NIFTY</td>\n",
       "      <td>14300.0</td>\n",
       "      <td>25/02/2021</td>\n",
       "      <td>PE</td>\n",
       "      <td>399.70</td>\n",
       "      <td>476.50</td>\n",
       "      <td>28575.0</td>\n",
       "      <td>29978.0</td>\n",
       "      <td>OTM</td>\n",
       "      <td>168.309859</td>\n",
       "      <td>168.309859</td>\n",
       "    </tr>\n",
       "    <tr>\n",
       "      <th>365</th>\n",
       "      <td>NIFTY</td>\n",
       "      <td>14250.0</td>\n",
       "      <td>25/02/2021</td>\n",
       "      <td>PE</td>\n",
       "      <td>378.60</td>\n",
       "      <td>454.60</td>\n",
       "      <td>1200.0</td>\n",
       "      <td>28395.0</td>\n",
       "      <td>OTM</td>\n",
       "      <td>166.666667</td>\n",
       "      <td>166.666667</td>\n",
       "    </tr>\n",
       "    <tr>\n",
       "      <th>333</th>\n",
       "      <td>NIFTY</td>\n",
       "      <td>12600.0</td>\n",
       "      <td>25/02/2021</td>\n",
       "      <td>PE</td>\n",
       "      <td>38.15</td>\n",
       "      <td>48.85</td>\n",
       "      <td>61050.0</td>\n",
       "      <td>2861.0</td>\n",
       "      <td>OTM</td>\n",
       "      <td>128.011204</td>\n",
       "      <td>128.011204</td>\n",
       "    </tr>\n",
       "    <tr>\n",
       "      <th>335</th>\n",
       "      <td>NIFTY</td>\n",
       "      <td>12800.0</td>\n",
       "      <td>25/02/2021</td>\n",
       "      <td>PE</td>\n",
       "      <td>52.30</td>\n",
       "      <td>66.10</td>\n",
       "      <td>67875.0</td>\n",
       "      <td>3922.0</td>\n",
       "      <td>OTM</td>\n",
       "      <td>86.213992</td>\n",
       "      <td>86.213992</td>\n",
       "    </tr>\n",
       "    <tr>\n",
       "      <th>411</th>\n",
       "      <td>NIFTY</td>\n",
       "      <td>14200.0</td>\n",
       "      <td>25/03/2021</td>\n",
       "      <td>PE</td>\n",
       "      <td>437.30</td>\n",
       "      <td>501.00</td>\n",
       "      <td>4950.0</td>\n",
       "      <td>32798.0</td>\n",
       "      <td>OTM</td>\n",
       "      <td>60.975610</td>\n",
       "      <td>60.975610</td>\n",
       "    </tr>\n",
       "    <tr>\n",
       "      <th>351</th>\n",
       "      <td>NIFTY</td>\n",
       "      <td>13800.0</td>\n",
       "      <td>25/02/2021</td>\n",
       "      <td>PE</td>\n",
       "      <td>229.75</td>\n",
       "      <td>275.70</td>\n",
       "      <td>248325.0</td>\n",
       "      <td>17231.0</td>\n",
       "      <td>OTM</td>\n",
       "      <td>56.179245</td>\n",
       "      <td>56.179245</td>\n",
       "    </tr>\n",
       "    <tr>\n",
       "      <th>355</th>\n",
       "      <td>NIFTY</td>\n",
       "      <td>14000.0</td>\n",
       "      <td>25/02/2021</td>\n",
       "      <td>PE</td>\n",
       "      <td>289.40</td>\n",
       "      <td>348.75</td>\n",
       "      <td>504825.0</td>\n",
       "      <td>21705.0</td>\n",
       "      <td>OTM</td>\n",
       "      <td>54.985033</td>\n",
       "      <td>54.985033</td>\n",
       "    </tr>\n",
       "    <tr>\n",
       "      <th>363</th>\n",
       "      <td>NIFTY</td>\n",
       "      <td>14200.0</td>\n",
       "      <td>25/02/2021</td>\n",
       "      <td>PE</td>\n",
       "      <td>360.55</td>\n",
       "      <td>431.85</td>\n",
       "      <td>52425.0</td>\n",
       "      <td>27041.0</td>\n",
       "      <td>OTM</td>\n",
       "      <td>47.157895</td>\n",
       "      <td>47.157895</td>\n",
       "    </tr>\n",
       "    <tr>\n",
       "      <th>353</th>\n",
       "      <td>NIFTY</td>\n",
       "      <td>13900.0</td>\n",
       "      <td>25/02/2021</td>\n",
       "      <td>PE</td>\n",
       "      <td>258.30</td>\n",
       "      <td>310.10</td>\n",
       "      <td>26925.0</td>\n",
       "      <td>19372.0</td>\n",
       "      <td>OTM</td>\n",
       "      <td>44.758065</td>\n",
       "      <td>44.758065</td>\n",
       "    </tr>\n",
       "    <tr>\n",
       "      <th>343</th>\n",
       "      <td>NIFTY</td>\n",
       "      <td>13400.0</td>\n",
       "      <td>25/02/2021</td>\n",
       "      <td>PE</td>\n",
       "      <td>133.55</td>\n",
       "      <td>163.90</td>\n",
       "      <td>27450.0</td>\n",
       "      <td>10016.0</td>\n",
       "      <td>OTM</td>\n",
       "      <td>32.608696</td>\n",
       "      <td>32.608696</td>\n",
       "    </tr>\n",
       "    <tr>\n",
       "      <th>361</th>\n",
       "      <td>NIFTY</td>\n",
       "      <td>14150.0</td>\n",
       "      <td>25/02/2021</td>\n",
       "      <td>PE</td>\n",
       "      <td>357.35</td>\n",
       "      <td>406.20</td>\n",
       "      <td>975.0</td>\n",
       "      <td>26801.0</td>\n",
       "      <td>OTM</td>\n",
       "      <td>30.000000</td>\n",
       "      <td>30.000000</td>\n",
       "    </tr>\n",
       "    <tr>\n",
       "      <th>345</th>\n",
       "      <td>NIFTY</td>\n",
       "      <td>13500.0</td>\n",
       "      <td>25/02/2021</td>\n",
       "      <td>PE</td>\n",
       "      <td>151.65</td>\n",
       "      <td>187.15</td>\n",
       "      <td>646800.0</td>\n",
       "      <td>11374.0</td>\n",
       "      <td>OTM</td>\n",
       "      <td>21.447683</td>\n",
       "      <td>21.447683</td>\n",
       "    </tr>\n",
       "    <tr>\n",
       "      <th>357</th>\n",
       "      <td>NIFTY</td>\n",
       "      <td>14050.0</td>\n",
       "      <td>25/02/2021</td>\n",
       "      <td>PE</td>\n",
       "      <td>319.50</td>\n",
       "      <td>351.80</td>\n",
       "      <td>2700.0</td>\n",
       "      <td>23962.0</td>\n",
       "      <td>OTM</td>\n",
       "      <td>16.129032</td>\n",
       "      <td>16.129032</td>\n",
       "    </tr>\n",
       "    <tr>\n",
       "      <th>332</th>\n",
       "      <td>NIFTY</td>\n",
       "      <td>12500.0</td>\n",
       "      <td>25/02/2021</td>\n",
       "      <td>PE</td>\n",
       "      <td>32.90</td>\n",
       "      <td>41.65</td>\n",
       "      <td>616875.0</td>\n",
       "      <td>2468.0</td>\n",
       "      <td>OTM</td>\n",
       "      <td>15.390011</td>\n",
       "      <td>15.390011</td>\n",
       "    </tr>\n",
       "    <tr>\n",
       "      <th>408</th>\n",
       "      <td>NIFTY</td>\n",
       "      <td>14000.0</td>\n",
       "      <td>25/03/2021</td>\n",
       "      <td>PE</td>\n",
       "      <td>358.80</td>\n",
       "      <td>417.60</td>\n",
       "      <td>487650.0</td>\n",
       "      <td>26910.0</td>\n",
       "      <td>OTM</td>\n",
       "      <td>13.711088</td>\n",
       "      <td>13.711088</td>\n",
       "    </tr>\n",
       "    <tr>\n",
       "      <th>401</th>\n",
       "      <td>NIFTY</td>\n",
       "      <td>12800.0</td>\n",
       "      <td>25/03/2021</td>\n",
       "      <td>PE</td>\n",
       "      <td>95.50</td>\n",
       "      <td>107.15</td>\n",
       "      <td>2325.0</td>\n",
       "      <td>7162.0</td>\n",
       "      <td>OTM</td>\n",
       "      <td>10.714286</td>\n",
       "      <td>10.714286</td>\n",
       "    </tr>\n",
       "    <tr>\n",
       "      <th>336</th>\n",
       "      <td>NIFTY</td>\n",
       "      <td>12900.0</td>\n",
       "      <td>25/02/2021</td>\n",
       "      <td>PE</td>\n",
       "      <td>61.40</td>\n",
       "      <td>76.80</td>\n",
       "      <td>16950.0</td>\n",
       "      <td>4605.0</td>\n",
       "      <td>OTM</td>\n",
       "      <td>10.243902</td>\n",
       "      <td>10.243902</td>\n",
       "    </tr>\n",
       "    <tr>\n",
       "      <th>340</th>\n",
       "      <td>NIFTY</td>\n",
       "      <td>13200.0</td>\n",
       "      <td>25/02/2021</td>\n",
       "      <td>PE</td>\n",
       "      <td>98.50</td>\n",
       "      <td>117.60</td>\n",
       "      <td>28200.0</td>\n",
       "      <td>7388.0</td>\n",
       "      <td>OTM</td>\n",
       "      <td>9.941520</td>\n",
       "      <td>9.941520</td>\n",
       "    </tr>\n",
       "    <tr>\n",
       "      <th>409</th>\n",
       "      <td>NIFTY</td>\n",
       "      <td>14100.0</td>\n",
       "      <td>25/03/2021</td>\n",
       "      <td>PE</td>\n",
       "      <td>408.45</td>\n",
       "      <td>452.00</td>\n",
       "      <td>1725.0</td>\n",
       "      <td>30634.0</td>\n",
       "      <td>OTM</td>\n",
       "      <td>9.523810</td>\n",
       "      <td>9.523810</td>\n",
       "    </tr>\n",
       "    <tr>\n",
       "      <th>327</th>\n",
       "      <td>NIFTY</td>\n",
       "      <td>12000.0</td>\n",
       "      <td>25/02/2021</td>\n",
       "      <td>PE</td>\n",
       "      <td>17.45</td>\n",
       "      <td>22.00</td>\n",
       "      <td>563850.0</td>\n",
       "      <td>1309.0</td>\n",
       "      <td>OTM</td>\n",
       "      <td>9.400466</td>\n",
       "      <td>9.400466</td>\n",
       "    </tr>\n",
       "    <tr>\n",
       "      <th>426</th>\n",
       "      <td>NIFTY</td>\n",
       "      <td>12000.0</td>\n",
       "      <td>24/06/2021</td>\n",
       "      <td>PE</td>\n",
       "      <td>134.90</td>\n",
       "      <td>140.00</td>\n",
       "      <td>22725.0</td>\n",
       "      <td>10118.0</td>\n",
       "      <td>OTM</td>\n",
       "      <td>9.386282</td>\n",
       "      <td>9.386282</td>\n",
       "    </tr>\n",
       "    <tr>\n",
       "      <th>338</th>\n",
       "      <td>NIFTY</td>\n",
       "      <td>13000.0</td>\n",
       "      <td>25/02/2021</td>\n",
       "      <td>PE</td>\n",
       "      <td>73.20</td>\n",
       "      <td>91.55</td>\n",
       "      <td>696225.0</td>\n",
       "      <td>5490.0</td>\n",
       "      <td>OTM</td>\n",
       "      <td>8.904270</td>\n",
       "      <td>8.904270</td>\n",
       "    </tr>\n",
       "  </tbody>\n",
       "</table>\n",
       "</div>"
      ],
      "text/plain": [
       "    SYMBOL  STR_PRICE    EXP_DATE OPT_TYPE  CLOSE_PRICE_x  CLOSE_PRICE_y  \\\n",
       "349  NIFTY    13700.0  25/02/2021       PE         200.45         245.55   \n",
       "427  NIFTY    13000.0  24/06/2021       PE         293.15         317.70   \n",
       "334  NIFTY    12700.0  25/02/2021       PE          44.65          56.90   \n",
       "367  NIFTY    14300.0  25/02/2021       PE         399.70         476.50   \n",
       "365  NIFTY    14250.0  25/02/2021       PE         378.60         454.60   \n",
       "333  NIFTY    12600.0  25/02/2021       PE          38.15          48.85   \n",
       "335  NIFTY    12800.0  25/02/2021       PE          52.30          66.10   \n",
       "411  NIFTY    14200.0  25/03/2021       PE         437.30         501.00   \n",
       "351  NIFTY    13800.0  25/02/2021       PE         229.75         275.70   \n",
       "355  NIFTY    14000.0  25/02/2021       PE         289.40         348.75   \n",
       "363  NIFTY    14200.0  25/02/2021       PE         360.55         431.85   \n",
       "353  NIFTY    13900.0  25/02/2021       PE         258.30         310.10   \n",
       "343  NIFTY    13400.0  25/02/2021       PE         133.55         163.90   \n",
       "361  NIFTY    14150.0  25/02/2021       PE         357.35         406.20   \n",
       "345  NIFTY    13500.0  25/02/2021       PE         151.65         187.15   \n",
       "357  NIFTY    14050.0  25/02/2021       PE         319.50         351.80   \n",
       "332  NIFTY    12500.0  25/02/2021       PE          32.90          41.65   \n",
       "408  NIFTY    14000.0  25/03/2021       PE         358.80         417.60   \n",
       "401  NIFTY    12800.0  25/03/2021       PE          95.50         107.15   \n",
       "336  NIFTY    12900.0  25/02/2021       PE          61.40          76.80   \n",
       "340  NIFTY    13200.0  25/02/2021       PE          98.50         117.60   \n",
       "409  NIFTY    14100.0  25/03/2021       PE         408.45         452.00   \n",
       "327  NIFTY    12000.0  25/02/2021       PE          17.45          22.00   \n",
       "426  NIFTY    12000.0  24/06/2021       PE         134.90         140.00   \n",
       "338  NIFTY    13000.0  25/02/2021       PE          73.20          91.55   \n",
       "\n",
       "     OPEN_INT*_x  Premium_x Moneyness_x  OiChangePer  OiChangePerAbs  \n",
       "349      82650.0    15034.0         OTM   302.189781      302.189781  \n",
       "427       8325.0    21986.0         OTM   226.470588      226.470588  \n",
       "334      49950.0     3349.0         OTM   175.206612      175.206612  \n",
       "367      28575.0    29978.0         OTM   168.309859      168.309859  \n",
       "365       1200.0    28395.0         OTM   166.666667      166.666667  \n",
       "333      61050.0     2861.0         OTM   128.011204      128.011204  \n",
       "335      67875.0     3922.0         OTM    86.213992       86.213992  \n",
       "411       4950.0    32798.0         OTM    60.975610       60.975610  \n",
       "351     248325.0    17231.0         OTM    56.179245       56.179245  \n",
       "355     504825.0    21705.0         OTM    54.985033       54.985033  \n",
       "363      52425.0    27041.0         OTM    47.157895       47.157895  \n",
       "353      26925.0    19372.0         OTM    44.758065       44.758065  \n",
       "343      27450.0    10016.0         OTM    32.608696       32.608696  \n",
       "361        975.0    26801.0         OTM    30.000000       30.000000  \n",
       "345     646800.0    11374.0         OTM    21.447683       21.447683  \n",
       "357       2700.0    23962.0         OTM    16.129032       16.129032  \n",
       "332     616875.0     2468.0         OTM    15.390011       15.390011  \n",
       "408     487650.0    26910.0         OTM    13.711088       13.711088  \n",
       "401       2325.0     7162.0         OTM    10.714286       10.714286  \n",
       "336      16950.0     4605.0         OTM    10.243902       10.243902  \n",
       "340      28200.0     7388.0         OTM     9.941520        9.941520  \n",
       "409       1725.0    30634.0         OTM     9.523810        9.523810  \n",
       "327     563850.0     1309.0         OTM     9.400466        9.400466  \n",
       "426      22725.0    10118.0         OTM     9.386282        9.386282  \n",
       "338     696225.0     5490.0         OTM     8.904270        8.904270  "
      ]
     },
     "execution_count": 91,
     "metadata": {},
     "output_type": "execute_result"
    }
   ],
   "source": [
    "expiries = ['25/02/2021', \n",
    "            '25/03/2021', \n",
    "            '24/06/2021', \n",
    "            '30/12/2021', \n",
    "            '29/12/2022', \n",
    "            '26/06/2025']\n",
    "\n",
    "opComparisonFiltered = dp.filterOptions({\n",
    "    'returnFullset': True,\n",
    "    'symbol': 'NIFTY',\n",
    "    'prefExpiries': expiries,\n",
    "    'optTypes': ['PE'],\n",
    "    #'optTypes': ['PE', 'CE'],\n",
    "    #'moneyness_x': ['ITM', 'OTM'],\n",
    "    'moneyness_x': ['OTM'],\n",
    "    'sortBy': 'OiChangePer',\n",
    "    #'openIntThreshold': 500000\n",
    "    }, opComparison)\n",
    "\n",
    "opComparisonFiltered.head(25)"
   ]
  },
  {
   "cell_type": "code",
   "execution_count": null,
   "metadata": {},
   "outputs": [],
   "source": [
    "#opComparisonFiltered['SYMBOL'].unique()\n",
    "#Symbol = 'IDEA'\n",
    "#opComparison[(opComparison['SYMBOL'] == Symbol) & (opComparison['EXP_DATE'] == prefExpiry)].sort_values('OPEN_INT*_x', ascending=False).head(25)"
   ]
  },
  {
   "cell_type": "code",
   "execution_count": null,
   "metadata": {},
   "outputs": [],
   "source": [
    "fdm = dataReader.readFundamentals('data/Stocks Research-2020-07-25.csv')"
   ]
  },
  {
   "cell_type": "code",
   "execution_count": null,
   "metadata": {},
   "outputs": [],
   "source": [
    "opTodayFdmMerged = dp.mergeFundamentalsAndOp(opToday, fdm)"
   ]
  },
  {
   "cell_type": "code",
   "execution_count": null,
   "metadata": {},
   "outputs": [],
   "source": [
    "expiry = prefExpiry\n",
    "opTodayFdmMergedFiltered = dp.filterOptions({\n",
    "        'prefExpiry': expiry, \n",
    "        'strikePriceThreshold': 10,\n",
    "        'optTypes': ['CE', 'PE'],\n",
    "        'moneyness': ['OTM'],\n",
    "        #'openIntThreshold': 50000,\n",
    "        '52weekLowThreshold': 0.3,\n",
    "        'sortBy': 'Premium',\n",
    "    }, opTodayFdmMerged)\n",
    "opTodayFdmMergedFiltered.loc[opTodayFdmMergedFiltered.groupby(['SYMBOL'])['Premium'].idxmax()].sort_values('Premium', ascending=False).head(1)"
   ]
  },
  {
   "cell_type": "code",
   "execution_count": null,
   "metadata": {},
   "outputs": [],
   "source": [
    "opTodayFdmMerged['EXP_DATE'].unique()"
   ]
  },
  {
   "cell_type": "code",
   "execution_count": null,
   "metadata": {},
   "outputs": [],
   "source": [
    "#opComparison = dp.compareOptions(opYest, opB4Yest)\n",
    "opComparison = dp.compareOptions(opToday, opYest)\n",
    "opComparison.head(1)"
   ]
  },
  {
   "cell_type": "code",
   "execution_count": null,
   "metadata": {},
   "outputs": [],
   "source": [
    "opComparisonFiltered = dp.filterOptions({\n",
    "    #'prefExpiry': prefExpiry,\n",
    "    'optTypes': ['PE' ,'CE'],\n",
    "    'moneyness_x': ['ITM', 'OTM'],\n",
    "    'returnFullset': True,\n",
    "    'symbol': 'NIFTY',\n",
    "    'sortBy': 'OiChangePer',\n",
    "    'openIntThreshold': 500000\n",
    "    }, opComparison)\n",
    "#opTodayFilters.head(5)\n",
    "opComparisonFiltered.head(25)"
   ]
  },
  {
   "cell_type": "code",
   "execution_count": null,
   "metadata": {},
   "outputs": [],
   "source": [
    "#opComparisonFiltered['SYMBOL'].unique()\n",
    "#Symbol = 'IDEA'\n",
    "#opComparison[(opComparison['SYMBOL'] == Symbol) & (opComparison['EXP_DATE'] == prefExpiry)].sort_values('OPEN_INT*_x', ascending=False).head(25)"
   ]
  },
  {
   "cell_type": "markdown",
   "metadata": {},
   "source": [
    "### Historical Options Analysis"
   ]
  },
  {
   "cell_type": "code",
   "execution_count": 92,
   "metadata": {},
   "outputs": [],
   "source": [
    "optionsHistory = dataReader.readOptionsDataForDateRange(datetime.datetime(2020, 12, 18), \n",
    "                                                        datetime.datetime(2021, 1, 8))"
   ]
  },
  {
   "cell_type": "code",
   "execution_count": null,
   "metadata": {},
   "outputs": [],
   "source": [
    "buyExp, sellExp = curExpiry, curExpiry\n",
    "buyStrike = 24000\n",
    "sellStrike = 27000 #buyStrike\n",
    "\n",
    "dispCols = ['SYMBOL', 'EXP_DATE', 'STR_PRICE', 'OPT_TYPE', 'CLOSE_PRICE', 'LO_PRICE', 'HI_PRICE', 'ForDate']\n",
    "#OPEN_PRICE \tHI_PRICE \tLO_PRICE\n",
    "filterOptionsHistory = dp.filterOptions({\n",
    "    'prefExpiries': [buyExp, sellExp], #prefExpiry,\n",
    "    'symbol': 'BANKNIFTY',    \n",
    "    'sortBy': 'ForDate',\n",
    "    'optTypes': ['PE'],\n",
    "    'strikePrices': [sellStrike, buyStrike],\n",
    "    'returnFullset': True\n",
    "    }, optionsHistory)\n",
    "#filterOptionsHistory.head(1)\n",
    "filterOptionsHistory[dispCols].sort_values(['ForDate'])\n",
    "\n",
    "dates = filterOptionsHistory.sort_values(['ForDate']).ForDate.unique()\n",
    "strategy = pd.DataFrame(columns=['SYMBOL', 'STR_PRICE', 'SYMBOL', 'OPT_TYPE', 'Buy', 'Sell', 'Diff', 'ForDate'])\n",
    "for date in dates:\n",
    "    b = filterOptionsHistory[(filterOptionsHistory.STR_PRICE == buyStrike) & (filterOptionsHistory.ForDate == date) & (filterOptionsHistory.EXP_DATE == buyExp)]\n",
    "    s = filterOptionsHistory[(filterOptionsHistory.STR_PRICE == sellStrike) & (filterOptionsHistory.ForDate == date) & (filterOptionsHistory.EXP_DATE == sellExp)]\n",
    "    \n",
    "    if len(s.CLOSE_PRICE.values) <= 0:\n",
    "        print(f'sell option not found for {sellStrike} with {sell} on {date}')\n",
    "        continue\n",
    "        \n",
    "    diff = s.CLOSE_PRICE.values[0] - b.CLOSE_PRICE.values[0]\n",
    "    strategy = strategy.append({\n",
    "                    'SYMBOL': s.SYMBOL.values[0],\n",
    "                    'STR_PRICE': s.STR_PRICE.values[0],\n",
    "                    'SYMBOL': s.SYMBOL.values[0],\n",
    "                    'OPT_TYPE': s.OPT_TYPE.values[0],\n",
    "                    'Buy': b.CLOSE_PRICE.values[0],\n",
    "                    'Sell': s.CLOSE_PRICE.values[0],\n",
    "                    'Diff': diff,\n",
    "                    'ForDate': s.ForDate.values[0],\n",
    "                    }, ignore_index=True)\n",
    "\n",
    "strategy"
   ]
  },
  {
   "cell_type": "code",
   "execution_count": 93,
   "metadata": {},
   "outputs": [],
   "source": [
    "longHistory = dataReader.readOptionsDataForDateRange(datetime.datetime(2020, 11, 1), \n",
    "                                                        datetime.datetime(2021, 1, 8))"
   ]
  },
  {
   "cell_type": "code",
   "execution_count": null,
   "metadata": {},
   "outputs": [],
   "source": [
    "symbol = 'BANKNIFTY'\n",
    "strikePrice = 22000\n",
    "dates = ['2020-06-25', '2020-07-30', '2020-08-27', '2020-09-24', '2020-10-29']\n",
    "optType = 'PE'\n",
    "dispCols = ['SYMBOL', 'EXP_DATE', 'CLOSE_PRICE', 'OPEN_INT*', 'ForDate']\n",
    "\n",
    "filteredLongHistory = longHistory[(longHistory.SYMBOL == symbol) & (longHistory.STR_PRICE == strikePrice) & (longHistory.OPT_TYPE == optType)]\n",
    "\n",
    "filteredLongHistory = filteredLongHistory[(filteredLongHistory.ForDate.isin(dates))]\n",
    "filteredLongHistory[dispCols].head(1)\n",
    "#longHistory[(longHistory.CLOSE_PRICE < 500) & (longHistory.SYMBOL == symbol) & (longHistory.STR_PRICE == strikePrice) & (longHistory.OPT_TYPE == optType)][dispCols]"
   ]
  },
  {
   "cell_type": "markdown",
   "metadata": {},
   "source": [
    "## Futures Analysis"
   ]
  },
  {
   "cell_type": "code",
   "execution_count": null,
   "metadata": {},
   "outputs": [],
   "source": [
    "futuresToday = dp.getFuturesForDate(today, bhavToday)\n",
    "futuresYest = dp.getFuturesForDate(yest, bhavYest)\n",
    "futuresB4Yest = dp.getFuturesForDate(b4Yest, bhavB4Yest)"
   ]
  },
  {
   "cell_type": "code",
   "execution_count": null,
   "metadata": {},
   "outputs": [],
   "source": [
    "futuresToday[futuresToday['SYMBOL'] == 'BAJAJFINSV'].head(1)"
   ]
  },
  {
   "cell_type": "code",
   "execution_count": null,
   "metadata": {},
   "outputs": [],
   "source": [
    "dp.filterFutures({'prefExpiry': prefExpiry, \n",
    "                  'priceDiffPerThreshold': 0.5, \n",
    "                  'fwds': ['Premium', 'Discount'], \n",
    "                  'symbol': 'IDEA',\n",
    "                  'openIntThreshold': 50000, \n",
    "                  'sortBy': 'PriceDiffPerAbs'}, futuresToday).head(1)"
   ]
  },
  {
   "cell_type": "code",
   "execution_count": null,
   "metadata": {
    "scrolled": true
   },
   "outputs": [],
   "source": [
    "#symbol = 'IDEA'\n",
    "#dp.filterOptions({'symbol': symbol, \n",
    "#                  'prefExpiry': prefExpiry, \n",
    "#                  'sortBy': 'Premium',\n",
    "#                  'moneyness': ['OTM']}, opToday).head(6)"
   ]
  },
  {
   "cell_type": "code",
   "execution_count": null,
   "metadata": {},
   "outputs": [],
   "source": [
    "futuresComparison = dp.compareFutures(futuresToday, futuresYest)\n",
    "futuresComparisonYest = dp.compareFutures(futuresYest, futuresB4Yest)"
   ]
  },
  {
   "cell_type": "code",
   "execution_count": null,
   "metadata": {},
   "outputs": [],
   "source": [
    "def getChangedFutures(futComp, limit = 10):\n",
    "    ds = futComp[(futComp['Fwd_x'] != futComp['Fwd_y']) & (futComp['EXP_DATE'] == nearExpiry)].sort_values('OiChangePerAbs', ascending=False).head(limit)\n",
    "    symbols = ds['SYMBOL'].values\n",
    "    df = futComp[(futComp['SYMBOL'].isin(symbols)) & (futComp['EXP_DATE'].isin([nearExpiry]))]\n",
    "    return df"
   ]
  },
  {
   "cell_type": "code",
   "execution_count": null,
   "metadata": {},
   "outputs": [],
   "source": [
    "#getChangedFutures(futuresComparisonYest)\n",
    "getChangedFutures(futuresComparison, 1).sort_values(['EXP_DATE', 'Fwd_y', 'OiChangePerAbs'], ascending=False)"
   ]
  },
  {
   "cell_type": "code",
   "execution_count": null,
   "metadata": {},
   "outputs": [],
   "source": [
    "Symbol = 'BHARTIARTL'\n",
    "futuresComparison[(futuresComparison['SYMBOL'] == Symbol) & (futuresComparison['EXP_DATE'].isin([curExpiry, nearExpiry]))]"
   ]
  },
  {
   "cell_type": "markdown",
   "metadata": {},
   "source": [
    "### Changes in future for a symbol"
   ]
  },
  {
   "cell_type": "code",
   "execution_count": null,
   "metadata": {},
   "outputs": [],
   "source": [
    "#Symbols = ['KOTAKBANK']\n",
    "Symbols = dp.bankniftySymbols\n",
    "futuresComparisonYest[(futuresComparisonYest['SYMBOL'].isin(Symbols)) & (futuresComparisonYest['EXP_DATE'].isin([curExpiry, nearExpiry]))]"
   ]
  },
  {
   "cell_type": "code",
   "execution_count": null,
   "metadata": {},
   "outputs": [],
   "source": [
    "futuresComparisonYest[(futuresComparisonYest['EXP_DATE'].isin([curExpiry, nearExpiry]) & (futuresComparisonYest['OiChangePerAbs'] > 50))]"
   ]
  },
  {
   "cell_type": "markdown",
   "metadata": {},
   "source": [
    "### Participants OI"
   ]
  },
  {
   "cell_type": "code",
   "execution_count": null,
   "metadata": {},
   "outputs": [],
   "source": [
    "oiParticipantsVs = OiParticipantsVisualizer()\n",
    "oiParticipantsVs.init()"
   ]
  },
  {
   "cell_type": "code",
   "execution_count": null,
   "metadata": {},
   "outputs": [],
   "source": [
    "fromDate = datetime.datetime(2020, 12, 20)\n",
    "toDate = datetime.datetime(2021, 1, 8)\n",
    "historical_participants_oi = dataReader.readParticipantWiseOiDataForDateRange(fromDate, toDate)\n",
    "historical_participants_oi = oiParticipantsVs.add_delta_datapoints(historical_participants_oi)\n",
    "#data = oiCharts(historical_participants_oi, ['FII', 'Client', 'Pro', 'DII'])"
   ]
  },
  {
   "cell_type": "code",
   "execution_count": null,
   "metadata": {},
   "outputs": [],
   "source": [
    "#clientTypes = ['FII']\n",
    "clientTypes = ['FII', 'DII', 'Pro', 'Client']\n",
    "data = oiParticipantsVs.oiCharts(historical_participants_oi, clientTypes)#, months = [12])"
   ]
  },
  {
   "cell_type": "code",
   "execution_count": null,
   "metadata": {},
   "outputs": [],
   "source": [
    "data[data['ForDate'].dt.month.isin([12, 1])].tail(12).sort_values('Client Type')\n",
    "#[['Future Stock Long', 'Future Stock Short', 'Future Stock Delta', 'ForDate']]"
   ]
  },
  {
   "cell_type": "markdown",
   "metadata": {},
   "source": [
    "## Equity Deliveries"
   ]
  },
  {
   "cell_type": "code",
   "execution_count": null,
   "metadata": {},
   "outputs": [],
   "source": [
    "eqDelVis = EquityDeliveryVisualizer()"
   ]
  },
  {
   "cell_type": "code",
   "execution_count": null,
   "metadata": {},
   "outputs": [],
   "source": [
    "fromDate = datetime.datetime(2020, 12, 1)\n",
    "toDate = datetime.datetime(2021, 1, 8)\n",
    "historical_equity_deliveries = dataReader.readEquityDeliveryDataForDateRange(fromDate, toDate)\n",
    "historical_equity_bhavcopy = dataReader.readBhavcopyForDateRange(fromDate, toDate)"
   ]
  },
  {
   "cell_type": "code",
   "execution_count": null,
   "metadata": {},
   "outputs": [],
   "source": [
    "hist_eq_del_bhav = dp.mergeEquityBhavAndDelivery(historical_equity_bhavcopy, historical_equity_deliveries)"
   ]
  },
  {
   "cell_type": "code",
   "execution_count": null,
   "metadata": {},
   "outputs": [],
   "source": [
    "#symbols = ['KOTAKBANK']\n",
    "symbols = dp.bankniftySymbols\n",
    "eqDelVis.showDeliveryChartsForSymbols(symbols, hist_eq_del_bhav)\n",
    "eqDelVis.showDeliveryPercChartsForSymbols(symbols, hist_eq_del_bhav)"
   ]
  },
  {
   "cell_type": "code",
   "execution_count": null,
   "metadata": {},
   "outputs": [],
   "source": [
    "#symbols = ['KOTAKBANK']\n",
    "symbols = dp.niftySymbols\n",
    "eqDelVis.showDeliveryChartsForSymbols(symbols, hist_eq_del_bhav)\n",
    "eqDelVis.showDeliveryPercChartsForSymbols(symbols, hist_eq_del_bhav)"
   ]
  },
  {
   "cell_type": "code",
   "execution_count": null,
   "metadata": {},
   "outputs": [],
   "source": [
    "symbols = ['JSWSTEEL']\n",
    "dispCols = ['SYMBOL', 'ForDate', 'DeliverableQuantityPercent', 'QuantityTraded', 'DeliverableQuantity', 'CMP']\n",
    "hist_eq_del_bhav_filtered = hist_eq_del_bhav[(hist_eq_del_bhav['SYMBOL'].isin(symbols)) & (hist_eq_del_bhav['RecordType'] == 'EQ')]\n",
    "hist_eq_del_bhav_filtered.tail(100)[dispCols].sort_values(['SYMBOL', 'ForDate'])"
   ]
  }
 ],
 "metadata": {
  "kernelspec": {
   "display_name": "Python 3",
   "language": "python",
   "name": "python3"
  },
  "language_info": {
   "codemirror_mode": {
    "name": "ipython",
    "version": 3
   },
   "file_extension": ".py",
   "mimetype": "text/x-python",
   "name": "python",
   "nbconvert_exporter": "python",
   "pygments_lexer": "ipython3",
   "version": "3.7.3"
  }
 },
 "nbformat": 4,
 "nbformat_minor": 2
}
